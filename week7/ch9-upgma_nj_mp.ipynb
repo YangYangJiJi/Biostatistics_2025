{
 "cells": [
  {
   "cell_type": "code",
   "execution_count": 1,
   "id": "443b367d-5589-42d7-8fd3-7e7bb85d47e8",
   "metadata": {},
   "outputs": [
    {
     "name": "stdout",
     "output_type": "stream",
     "text": [
      "Tree(rooted=False, weight=1.0)\n",
      "    Clade()\n",
      "        Clade()\n",
      "            Clade()\n",
      "                Clade(name='A')\n",
      "                Clade(name='B')\n",
      "            Clade()\n",
      "                Clade(name='C')\n",
      "                Clade(name='D')\n",
      "        Clade()\n",
      "            Clade(name='E')\n",
      "            Clade(name='F')\n",
      "            Clade(name='G')\n"
     ]
    }
   ],
   "source": [
    "# Biopython의 Phylo 모듈을 import 합니다.\n",
    "from Bio import Phylo\n",
    "\n",
    "# 'simple.dnd' 파일에서 Newick 형식의 계통수를 읽어 tree 변수에 저장합니다.\n",
    "tree = Phylo.read(\"simple.dnd\", \"newick\")\n",
    "\n",
    "# 읽어온 계통수 객체의 기본 정보를 출력\n",
    "print(tree) "
   ]
  },
  {
   "cell_type": "code",
   "execution_count": 2,
   "id": "f47cdf84-a3a5-43c5-be69-8552e32fea68",
   "metadata": {},
   "outputs": [
    {
     "name": "stdout",
     "output_type": "stream",
     "text": [
      "                                                    ________________________ A\n",
      "                           ________________________|\n",
      "                          |                        |________________________ B\n",
      "  ________________________|\n",
      " |                        |                         ________________________ C\n",
      " |                        |________________________|\n",
      "_|                                                 |________________________ D\n",
      " |\n",
      " |                         ________________________ E\n",
      " |                        |\n",
      " |________________________|________________________ F\n",
      "                          |\n",
      "                          |________________________ G\n",
      "\n"
     ]
    }
   ],
   "source": [
    "# 계통수를 ASCII 문자 형태로 시각화하여 출력\n",
    "Phylo.draw_ascii(tree)"
   ]
  },
  {
   "cell_type": "code",
   "execution_count": null,
   "id": "7ad78bb5",
   "metadata": {},
   "outputs": [
    {
     "data": {
      "image/png": "[encoded data removed]",
      "text/plain": [
       "<Figure size 640x480 with 1 Axes>"
      ]
     },
     "metadata": {},
     "output_type": "display_data"
    }
   ],
   "source": [
    "Phylo.draw(tree) #더 이쁘게 나옴"
   ]
  },
  {
   "cell_type": "code",
   "execution_count": null,
   "id": "b8d48e9b-72f0-4f91-93b6-43a25d2d54e1",
   "metadata": {},
   "outputs": [
    {
     "name": "stdout",
     "output_type": "stream",
     "text": [
      "Loaded alignment length: 12\n"
     ]
    }
   ],
   "source": [
    "from Bio import AlignIO, Phylo\n",
    "from Bio.Phylo.TreeConstruction import (\n",
    "    DistanceCalculator, DistanceTreeConstructor,\n",
    "    ParsimonyScorer, NNITreeSearcher, ParsimonyTreeConstructor\n",
    ")\n",
    "import matplotlib.pyplot as plt\n",
    "\n",
    "# STEP 1: 정렬된 FASTA 파일 읽기\n",
    "alignment = AlignIO.read(\"example_aligned.fasta\", \"fasta\") #데이터는 4개의 ABCD 정렬된 서열 \n",
    "print(\"Loaded alignment length:\", alignment.get_alignment_length())\n",
    "\n",
    "#길이가 총 12개임을 확인함."
   ]
  },
  {
   "cell_type": "code",
   "execution_count": null,
   "id": "c2347e14-9aab-4f5f-882d-9080f0d9a521",
   "metadata": {},
   "outputs": [
    {
     "name": "stdout",
     "output_type": "stream",
     "text": [
      "\n",
      "Pairwise distance matrix:\n",
      " A   0.000000\n",
      "B   0.083333    0.000000\n",
      "C   0.083333    0.166667    0.000000\n",
      "D   0.166667    0.083333    0.083333    0.000000\n",
      "    A   B   C   D\n"
     ]
    }
   ],
   "source": [
    "\n",
    "# STEP 2: 거리 행렬 계산\n",
    "calculator = DistanceCalculator(\"identity\") #같고 다른지만 고려한다는 옵션 = identity 를 사용해서 거리 행렬 계산. \n",
    "dm = calculator.get_distance(alignment)\n",
    "print(\"\\nPairwise distance matrix:\\n\", dm)\n",
    "\n",
    "# 각 pair 마다 같은지 다른지를 통해 거리 확인 \n",
    "# 같고 다른거의 비율로 계산이 됨. 1보다 작은 값으로 프린트 됨"
   ]
  },
  {
   "cell_type": "code",
   "execution_count": null,
   "id": "99e31e99-1525-4086-94d5-a94ef48ee718",
   "metadata": {},
   "outputs": [
    {
     "name": "stdout",
     "output_type": "stream",
     "text": [
      "\n",
      "Neighbor-Joining Tree:\n",
      "                                       ______________________________________ A\n",
      "  ____________________________________|\n",
      " |                                    |______________________________________ B\n",
      "_|\n",
      " |_____________________________________ C\n",
      " |\n",
      " |_____________________________________ D\n",
      "\n"
     ]
    }
   ],
   "source": [
    "\n",
    "# STEP 3-1: Neighbor-Joining (NJ) 계통수 생성\n",
    "constructor = DistanceTreeConstructor() # 생성자 생성\n",
    "nj_tree = constructor.nj(dm) #constructor.nj가 네이버 조이닝 구하는 함수. 여기에 거리 행렬 넣으면 됨 \n",
    "print(\"\\nNeighbor-Joining Tree:\")\n",
    "Phylo.draw_ascii(nj_tree)\n",
    "# 당연히 루트에서 터미널 노드까지 거리는 다를 수 있다."
   ]
  },
  {
   "cell_type": "code",
   "execution_count": null,
   "id": "ec0b234e-54d8-4307-af66-295b5d4c5ab4",
   "metadata": {},
   "outputs": [
    {
     "name": "stdout",
     "output_type": "stream",
     "text": [
      "\n",
      "UPGMA Tree:\n",
      "                           __________________________________________________ D\n",
      "  ________________________|\n",
      " |                        |__________________________________________________ C\n",
      "_|\n",
      " |                         __________________________________________________ B\n",
      " |________________________|\n",
      "                          |__________________________________________________ A\n",
      "\n"
     ]
    }
   ],
   "source": [
    "\n",
    "# STEP 3-2: UPGMA 계통수 생성\n",
    "upgma_tree = constructor.upgma(dm) #upgma 함수에 또 거리행렬 넣으면 구할 수 있음 \n",
    "print(\"\\nUPGMA Tree:\")\n",
    "Phylo.draw_ascii(upgma_tree)\n",
    "\n",
    "# UPGMA와 네이버 조이닝 은 branch length는 다르지만 tree topology는 같다!!!!\n"
   ]
  },
  {
   "cell_type": "code",
   "execution_count": 8,
   "id": "8566172d-a7c4-41f2-89c8-ef98ad889108",
   "metadata": {},
   "outputs": [],
   "source": [
    "\n",
    "\n",
    "# STEP 3-3: Maximum Parsimony (MP) 계통수 생성\n",
    "scorer = ParsimonyScorer()\n",
    "searcher = NNITreeSearcher(scorer) #휴리스틱 중 NNI 사용할거임. "
   ]
  },
  {
   "cell_type": "code",
   "execution_count": 10,
   "id": "ae0bd6b5-eeae-4ddb-8371-2b6914f10701",
   "metadata": {},
   "outputs": [
    {
     "name": "stdout",
     "output_type": "stream",
     "text": [
      "\n",
      "Maximum Parsimony Tree:\n",
      "                           __________________________________________________ A\n",
      "  ________________________|\n",
      " |                        |__________________________________________________ B\n",
      "_|\n",
      " |                         __________________________________________________ D\n",
      " |________________________|\n",
      "                          |__________________________________________________ C\n",
      "\n"
     ]
    }
   ],
   "source": [
    "\n",
    "# NJ 트리를 초기 트리로 사용하여 MP 방법으로 최적 트리 추정\n",
    "constructor_mp = ParsimonyTreeConstructor(searcher, nj_tree) \n",
    "#휴리스틱 방법으로 찾는거기에 initial tree가 뭔지에 따라 결과값이 달라질 수 있음\n",
    "#계산이 빠른 네이버 조이닝 트리 또는 UPGMA를 initial tree로 하면 좋다. 랜덤 트리보다.\n",
    "mp_tree = constructor_mp.build_tree(alignment)\n",
    "print(\"\\nMaximum Parsimony Tree:\")\n",
    "Phylo.draw_ascii(mp_tree)\n"
   ]
  },
  {
   "cell_type": "code",
   "execution_count": null,
   "id": "1de3e941-5140-4070-9443-dff51c5c8649",
   "metadata": {},
   "outputs": [
    {
     "data": {
      "image/png": "[encoded data removed]",
      "text/plain": [
       "<Figure size 1500x500 with 3 Axes>"
      ]
     },
     "metadata": {},
     "output_type": "display_data"
    }
   ],
   "source": [
    "\n",
    "# STEP 4: 계통수 시각화 (Phylo.draw함수 사용해서 이쁘게)\n",
    "fig, axes = plt.subplots(1, 3, figsize=(15, 5))\n",
    "\n",
    "Phylo.draw(nj_tree, axes=axes[0], do_show=False)\n",
    "axes[0].set_title(\"Neighbor-Joining Tree\")\n",
    "\n",
    "Phylo.draw(upgma_tree, axes=axes[1], do_show=False)\n",
    "axes[1].set_title(\"UPGMA Tree\")\n",
    "\n",
    "Phylo.draw(mp_tree, axes=axes[2], do_show=False)\n",
    "axes[2].set_title(\"Maximum Parsimony Tree\")\n",
    "\n",
    "plt.tight_layout()\n",
    "plt.show()\n",
    "\n",
    "# branch length가 나올 수 있는데 안나왔네..\n",
    "# 일단 토폴로지만 비교. 똑같이 나온다! 간단한 예제라서.\n"
   ]
  },
  {
   "cell_type": "code",
   "execution_count": null,
   "id": "5db63aca-c97a-402c-a3ca-0e10eb894e17",
   "metadata": {},
   "outputs": [],
   "source": [
    "\n"
   ]
  },
  {
   "cell_type": "code",
   "execution_count": null,
   "id": "45029275-934d-4d24-8ff8-2f4fab2e3989",
   "metadata": {},
   "outputs": [],
   "source": []
  }
 ],
 "metadata": {
  "kernelspec": {
   "display_name": "Python 3",
   "language": "python",
   "name": "python3"
  },
  "language_info": {
   "codemirror_mode": {
    "name": "ipython",
    "version": 3
   },
   "file_extension": ".py",
   "mimetype": "text/x-python",
   "name": "python",
   "nbconvert_exporter": "python",
   "pygments_lexer": "ipython3",
   "version": "3.12.1"
  }
 },
 "nbformat": 4,
 "nbformat_minor": 5
}
