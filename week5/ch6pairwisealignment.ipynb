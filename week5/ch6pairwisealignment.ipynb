{
 "cells": [
  {
   "cell_type": "code",
   "execution_count": 1,
   "id": "805172f7",
   "metadata": {},
   "outputs": [],
   "source": [
    "import Bio"
   ]
  },
  {
   "cell_type": "code",
   "execution_count": null,
   "id": "877f4b75-746c-42d7-a495-a743f77cf947",
   "metadata": {},
   "outputs": [
    {
     "name": "stdout",
     "output_type": "stream",
     "text": [
      "7\n"
     ]
    },
    {
     "name": "stderr",
     "output_type": "stream",
     "text": [
      "c:\\Users\\jihyu\\AppData\\Local\\Programs\\Python\\Python312\\Lib\\site-packages\\Bio\\pairwise2.py:278: BiopythonDeprecationWarning: Bio.pairwise2 has been deprecated, and we intend to remove it in a future release of Biopython. As an alternative, please consider using Bio.Align.PairwiseAligner as a replacement, and contact the Biopython developers if you still need the Bio.pairwise2 module.\n",
      "  warnings.warn(\n"
     ]
    }
   ],
   "source": [
    " \n",
    "# pairwise2: 두 서열 간의 정렬(Alignment)을 수행하는 함수를 제공하는 모듈입니다.\n",
    "# format_alignment: 정렬 결과를 사람이 읽기 좋은 형태로 포맷팅하는 함수입니다.\n",
    "# MatrixInfo: 단백질 서열 정렬에 사용할 치환 행렬(BLOSUM62 등)을 포함하는 모듈입니다.\n",
    "\n",
    "from Bio import pairwise2\n",
    "from Bio.pairwise2 import format_alignment\n",
    "\n",
    "# global alignment\n",
    "# globalxx 함수:\n",
    "#    \"xx\"는 매칭(match) 점수를 1, 불일치(mismatch)와 갭(gap)에 대해서는 점수를 부여하지 않는 단순한 전역 정렬 방법을 의미합니다.\n",
    "# match score:1, mismatch score: 0\n",
    "alignments = pairwise2.align.globalxx(\"ATAGAGAATAG\", \"ATGGCAGATAGA\") #여기가 메인임. \n",
    "#아직 갭 패널티를 부여하지는 않음. 갭 패널티 0\n",
    "\n",
    "print (len(alignments))\n",
    "#어떻게 정렬이 되든 정렬을 했으니까 길이는 둘다 똑같아짐. 7로."
   ]
  },
  {
   "cell_type": "code",
   "execution_count": 9,
   "id": "23e68535-31d5-4c2c-99da-0b401fafffa6",
   "metadata": {},
   "outputs": [
    {
     "name": "stdout",
     "output_type": "stream",
     "text": [
      "ATAGAG-A-ATAG-\n",
      "|| | | | |||| \n",
      "AT-G-GCAGATAGA\n",
      "  Score=9\n",
      "\n",
      "ATAG--AGAATAG-\n",
      "|| |  || |||| \n",
      "AT-GGCAG-ATAGA\n",
      "  Score=9\n",
      "\n",
      "ATA-G-AGAATAG-\n",
      "||  | || |||| \n",
      "AT-GGCAG-ATAGA\n",
      "  Score=9\n",
      "\n",
      "ATAG-AGAATAG-\n",
      "||.| || |||| \n",
      "ATGGCAG-ATAGA\n",
      "  Score=9\n",
      "\n",
      "ATAG--AGAATAG-\n",
      "|| |  ||| ||| \n",
      "AT-GGCAGA-TAGA\n",
      "  Score=9\n",
      "\n",
      "ATA-G-AGAATAG-\n",
      "||  | ||| ||| \n",
      "AT-GGCAGA-TAGA\n",
      "  Score=9\n",
      "\n",
      "ATAG-AGAATAG-\n",
      "||.| ||| ||| \n",
      "ATGGCAGA-TAGA\n",
      "  Score=9\n",
      "\n"
     ]
    }
   ],
   "source": [
    "\n",
    "for a in alignments: \n",
    "    print(format_alignment(*a))"
   ]
  },
  {
   "cell_type": "code",
   "execution_count": null,
   "id": "b8d6ee90-083a-4507-a3dc-b79a4409e69d",
   "metadata": {},
   "outputs": [
    {
     "name": "stdout",
     "output_type": "stream",
     "text": [
      "4 GAGAAT\n",
      "  ||||||\n",
      "3 GAGAAT\n",
      "  Score=18\n",
      "\n"
     ]
    }
   ],
   "source": [
    "# from Bio.SubsMat import MatrixInfo \n",
    "\n",
    "# local alignment\n",
    "# localms 함수:!!!\n",
    "#    \"ms\"는 match와 mismatch 점수를 직접 지정하는 지역 정렬 알고리즘를 의미합니다.\n",
    "#    여기서는 DNA 서열 \"ATAGAGAATAG\"와 \"GGGAGAATC\"에 대해 지역 정렬을 수행합니다.\n",
    "#    매치 점수: 3, 미스매치 점수: -2, 갭 오픈 페널티: -3, 갭 확장 페널티: -3로 설정합니다.\n",
    "local_dna = pairwise2.align.localms(\"ATAGAGAATAG\", \"GGGAGAATC\", 3,-2,-3,-3) #2개의 서열의 로컬 얼라인을 구함. 뒤에 패널티를 옵션으로 줌\n",
    "\n",
    "# 갭 오픈? 갭 확장?\n",
    "# linear gap penalty를 주었다고 했음. \n",
    "# 2k 앞에 곱해진 상수 2가 확장 패널티\n",
    "# 오픈 패널티는 W1. 맨 처음에 주는 패널티. \n",
    "# 여기서는 -3 -3 이니까 W1 = -3 / 확장할수록 -3k씩 패널티가 증가. \n",
    "for a in local_dna: print(format_alignment(*a))\n",
    "\n",
    "# 로컬 얼라인이기에 저 중간에 GAGAAT 부분이 겹침. 약간 패턴 찾기 느낌. "
   ]
  },
  {
   "cell_type": "code",
   "execution_count": null,
   "id": "8da368fd-2c92-4b79-8424-b728f7a37a0e",
   "metadata": {},
   "outputs": [],
   "source": []
  }
 ],
 "metadata": {
  "kernelspec": {
   "display_name": "Python 3",
   "language": "python",
   "name": "python3"
  },
  "language_info": {
   "codemirror_mode": {
    "name": "ipython",
    "version": 3
   },
   "file_extension": ".py",
   "mimetype": "text/x-python",
   "name": "python",
   "nbconvert_exporter": "python",
   "pygments_lexer": "ipython3",
   "version": "3.12.1"
  }
 },
 "nbformat": 4,
 "nbformat_minor": 5
}
