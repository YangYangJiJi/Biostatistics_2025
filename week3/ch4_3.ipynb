{
 "cells": [
  {
   "cell_type": "code",
   "execution_count": null,
   "id": "361d1210-c824-431e-a5a8-fc006442ebe6",
   "metadata": {},
   "outputs": [],
   "source": [
    "# 코돈 → 아미노산 매핑\n",
    "# - 입력된 3염기 문자열(`cod`)을 `codon_table` 딕셔너리에서 검색하여, 해당 아미노산 문자를 반환.\n",
    "# - 없는 코돈이면 `None` 또는 에러 처리.\n",
    "    \n",
    "def translate_codon (cod): #input은 DNA 코돈. \n",
    "    #이건 IUPAC 표를 딕셔너리로 저장한 것임.  key가 코돈이고 value가 아미노산. \n",
    "    #GCT라는 키의 밸류는 A\n",
    "    #대응하는 밸류를 리턴한다. \n",
    "    \"\"\"Translates a codon into an aminoacid using an internal dictionary with the standard genetic code.\"\"\"\n",
    "    tc = {\"GCT\":\"A\", \"GCC\":\"A\", \"GCA\":\"A\", \"GCG\":\"A\", \n",
    "      \"TGT\":\"C\", \"TGC\":\"C\",\n",
    "      \"GAT\":\"D\", \"GAC\":\"D\",\n",
    "      \"GAA\":\"E\", \"GAG\":\"E\",\n",
    "      \"TTT\":\"F\", \"TTC\":\"F\",\n",
    "      \"GGT\":\"G\", \"GGC\":\"G\", \"GGA\":\"G\", \"GGG\":\"G\",\n",
    "      \"CAT\":\"H\", \"CAC\":\"H\",\n",
    "      \"ATA\":\"I\", \"ATT\":\"I\", \"ATC\":\"I\",\n",
    "      \"AAA\":\"K\", \"AAG\":\"K\",\n",
    "      \"TTA\":\"L\", \"TTG\":\"L\", \"CTT\":\"L\", \"CTC\":\"L\", \"CTA\":\"L\", \"CTG\":\"L\",\n",
    "      \"ATG\":\"M\", \n",
    "      \"AAT\":\"N\", \"AAC\":\"N\",\n",
    "      \"CCT\":\"P\", \"CCC\":\"P\", \"CCA\":\"P\", \"CCG\":\"P\",\n",
    "      \"CAA\":\"Q\", \"CAG\":\"Q\",\n",
    "      \"CGT\":\"R\", \"CGC\":\"R\", \"CGA\":\"R\", \"CGG\":\"R\", \"AGA\":\"R\", \"AGG\":\"R\",\n",
    "      \"TCT\":\"S\", \"TCC\":\"S\", \"TCA\":\"S\", \"TCG\":\"S\", \"AGT\":\"S\", \"AGC\":\"S\",\n",
    "      \"ACT\":\"T\", \"ACC\":\"T\", \"ACA\":\"T\", \"ACG\":\"T\",\n",
    "      \"GTT\":\"V\", \"GTC\":\"V\", \"GTA\":\"V\", \"GTG\":\"V\",\n",
    "      \"TGG\":\"W\",\n",
    "      \"TAT\":\"Y\", \"TAC\":\"Y\",\n",
    "      \"TAA\":\"_\", \"TAG\":\"_\", \"TGA\":\"_\"}\n",
    "    if cod in tc: return tc[cod] #input DNA 코돈이 tc에 있으면 그것의 밸류인 아미노산을 리턴하라.\n",
    "    else: return None #없으면 None 리턴.\n",
    "\n"
   ]
  },
  {
   "cell_type": "code",
   "execution_count": null,
   "id": "4b8779a7-5f8b-469d-a0f9-089bae7ac530",
   "metadata": {},
   "outputs": [
    {
     "data": {
      "text/plain": [
       "'M'"
      ]
     },
     "execution_count": 18,
     "metadata": {},
     "output_type": "execute_result"
    }
   ],
   "source": [
    "cod1 = \"ATG\" #시작코돈.\n",
    "translate_codon (cod1)"
   ]
  },
  {
   "cell_type": "code",
   "execution_count": null,
   "id": "8825523e-e515-4b49-8823-c0ee8ba9f2ea",
   "metadata": {},
   "outputs": [],
   "source": [
    "# DNA 서열을 아미노산 서열로 변환\n",
    "\n",
    "def validate_dna (dna_seq):\n",
    "    \"\"\" Checks if DNA sequence is valid. Returns True is sequence is valid, or False otherwise. \"\"\"\n",
    "    seqm = dna_seq.upper()\n",
    "    valid = seqm.count(\"A\") + seqm.count(\"C\") + seqm.count(\"G\") + seqm.count(\"T\")\n",
    "    if valid == len(seqm): return True\n",
    "    else: return False \n",
    "\n",
    "def translate_seq (dna_seq, ini_pos = 0): #initial position은 어디서 부터 번역할건지. 0부터 시작함.\n",
    "    \"\"\" Translates a DNA sequence into an aminoacid sequence. \"\"\"\n",
    "    assert validate_dna(dna_seq), \"Invalid DNA sequence\" #valid 한지 체크.\n",
    "    seqm = dna_seq.upper() #질문 : 위에서 upper했는데 또 하는건가요? ㅇㅇ 위에서는 검사만 하는거고, 여기서는 진짜 데이터를 바꿈.\n",
    "    seq_aa = \"\"\n",
    "    #pos는 코돈의 시작 포지션. \n",
    "    for pos in range(ini_pos,len(seqm)-2,3): # 3의 간격으로 서열을 순차적으로 번역\n",
    "        cod = seqm[pos:pos+3] #번역할 3자리를 cod라는 변수에 넣음.\n",
    "        seq_aa += translate_codon(cod)  # 추출된 cod(코돈)를 translate_codon 함수를 사용하여 아미노산으로 변환하고, 그 결과를 seq_aa에 추가\n",
    "    return seq_aa\n",
    "\n"
   ]
  },
  {
   "cell_type": "code",
   "execution_count": 22,
   "id": "9c42cc38-b61a-462f-a9ab-6d8f55e2ae5d",
   "metadata": {},
   "outputs": [
    {
     "data": {
      "text/plain": [
       "'NRG'"
      ]
     },
     "execution_count": 22,
     "metadata": {},
     "output_type": "execute_result"
    }
   ],
   "source": [
    "seq = \"aaccggggt\"\n",
    "translate_seq(seq)"
   ]
  },
  {
   "cell_type": "code",
   "execution_count": null,
   "id": "139178d2-d5a6-4e63-b36e-2b482476e703",
   "metadata": {},
   "outputs": [],
   "source": [
    "# 주어진 DNA 서열에서 특정 아미노산(aa)을 암호화하는 각 코돈의 사용 빈도(frequency)를 계산하는 함수\n",
    "# 아미노산 -> DNA 서열변환 할 때 코돈 사용 빈도 계산.\n",
    "\n",
    "\n",
    "def codon_usage(dna_seq, aa):\n",
    "    \"\"\"Provides the frequency of each codon encoding a given aminoacid, in a DNA sequence .\"\"\"\n",
    "    assert validate_dna(dna_seq), \"Invalid DNA sequence\" #유효성 체크후\n",
    "    seqm = dna_seq.upper() #대문자로 변환.\n",
    "    dic = {} #코돈들이 key가 되고, 빈도가 value가 된다. \n",
    "    total = 0 #total은 aa로 번역되는 DNA의 총 빈도를 나타내는 변수.\n",
    "    for i in range(0, len(seqm)-2, 3): #3씩 끊어가면서 읽음.\n",
    "        cod = seqm[i:i+3]\n",
    "        if translate_codon(cod) == aa: #앞에서 만든 함수 써서 아미노산과 똑같은지 조건문으로 확인.\n",
    "            if cod in dic:  #만약 얘가 이미 딕셔너리에 있으면 \n",
    "                dic[cod] += 1 #딕셔너리의 value를 1로 증가\n",
    "            else: dic[cod] = 1 #딕셔너리에 없었다면 value를 1로 설정.\n",
    "            total += 1\n",
    "    if total >0: # 토탈에 값이 하나라도 있다면\n",
    "        for k in dic:\n",
    "            dic[k] /= total #총 aa로 번역되는 코돈의 비율.\n",
    "    return dic #토탈에 값이 없다면 원래 값인 0출력.\n",
    "\n"
   ]
  },
  {
   "cell_type": "code",
   "execution_count": 40,
   "id": "d2361570-19c7-4700-9677-55abaf9b2d77",
   "metadata": {},
   "outputs": [
    {
     "data": {
      "text/plain": [
       "'NRGNN'"
      ]
     },
     "execution_count": 40,
     "metadata": {},
     "output_type": "execute_result"
    }
   ],
   "source": [
    "seq = \"aaccggggtaataac\"\n",
    "translate_seq(seq)"
   ]
  },
  {
   "cell_type": "code",
   "execution_count": null,
   "id": "8ba87600-89fb-4b79-91f1-7a240ff01534",
   "metadata": {},
   "outputs": [
    {
     "data": {
      "text/plain": [
       "{'AAC': 0.6666666666666666, 'AAT': 0.3333333333333333}"
      ]
     },
     "execution_count": 42,
     "metadata": {},
     "output_type": "execute_result"
    }
   ],
   "source": [
    "\n",
    "codon_usage(seq, \"N\") #N이라는 아미노산의 코돈 사용 빈도\n",
    "#이 시퀀스에 N으로 번역되는 코돈은 어떤게 있고, 이것들의 비율은 어떤지 계산.\n",
    "#N으로 번역되는게 저 서열에서 aac, aat임.\n",
    "#aac가 두번, aat가 한번 나오기에 아래와 같은 빈도가 나옴.\n",
    "\n",
    "# 바꾸기 쉬운 문제임. 시험용으로\n",
    "# 비율이 아니라 빈도로 print되게 할 수도 있고,\n",
    "# 조건을 복잡하게 : N 혹은 R로  번역되는 코돈 usage를 프린트되게 \n",
    "# 기본적인 idea \n",
    "\n",
    "# 타이핑임. (저 엄청난 아미노산 코돈표 타이핑은 안시킬거임.)"
   ]
  }
 ],
 "metadata": {
  "kernelspec": {
   "display_name": "Python 3 (ipykernel)",
   "language": "python",
   "name": "python3"
  },
  "language_info": {
   "codemirror_mode": {
    "name": "ipython",
    "version": 3
   },
   "file_extension": ".py",
   "mimetype": "text/x-python",
   "name": "python",
   "nbconvert_exporter": "python",
   "pygments_lexer": "ipython3",
   "version": "3.12.7"
  }
 },
 "nbformat": 4,
 "nbformat_minor": 5
}
