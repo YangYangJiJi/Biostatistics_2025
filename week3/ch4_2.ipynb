{
 "cells": [
  {
   "cell_type": "code",
   "execution_count": 3,
   "id": "5f06a2ad-6969-483e-9904-f5d25b706ed6",
   "metadata": {},
   "outputs": [],
   "source": [
    "# 전사\n",
    "\n",
    "def validate_dna (dna_seq):\n",
    "    \"\"\" Checks if DNA sequence is valid. Returns True is sequence is valid, or False otherwise. \"\"\"\n",
    "    seqm = dna_seq.upper()\n",
    "    valid = seqm.count(\"A\") + seqm.count(\"C\") + seqm.count(\"G\") + seqm.count(\"T\")\n",
    "    if valid == len(seqm): return True\n",
    "    else: return False \n",
    "    \n",
    "def transcription (dna_seq): #input을 dna seq으로 줌. \n",
    "    #습관적으로 DNA seq을 받으면 valid한지 체크해야한다. #assert를 주면 True가 나오면 넘어가고, False라면 유효하지 않다는 메시지 출력.\n",
    "    \"\"\" Function that computes the RNA corresponding to the transcription of the DNA sequence provided. \"\"\"\n",
    "    assert validate_dna(dna_seq), \"Invalid DNA sequence\"   # DNA 유효성 검사(문자열이 A, T, G, C만 포함하는지) 후 진행.# 조건이 False일 때 메세지 출력\n",
    "    return dna_seq.upper().replace(\"T\",\"U\")    #T를 U로 바꾸면 전사 완료.\n"
   ]
  },
  {
   "cell_type": "code",
   "execution_count": 15,
   "id": "d997239b-ae0b-450a-9288-056a2930ba49",
   "metadata": {},
   "outputs": [
    {
     "data": {
      "text/plain": [
       "'AUGCCUAAG'"
      ]
     },
     "execution_count": 15,
     "metadata": {},
     "output_type": "execute_result"
    }
   ],
   "source": [
    "seq = \"ATGCCTAAG\"\n",
    "transcription(seq)"
   ]
  },
  {
   "cell_type": "code",
   "execution_count": null,
   "id": "b5e696ab-7229-4bef-8484-a097d2f3f354",
   "metadata": {},
   "outputs": [],
   "source": [
    "# 역상보(Reverse Complement)\n",
    "\n",
    "def reverse_complement (dna_seq):\n",
    "    \"\"\" Computes the reverse complement of the inputted DNA sequence. \"\"\"\n",
    "    assert validate_dna(dna_seq), \"Invalid DNA sequence\" #valid한지 체크함. \n",
    "    comp = \"\" #valid하다면 역상보 가닥을 넣을 comp 변수.\n",
    "    for c in dna_seq.upper(): #comp에 앞에 저장을 하면, reverse로 저장 가능하다. \n",
    "        #만약 상보가닥을 만들고 싶다면 comp + 'T'로 하면 됨. -> 이런 느낌으로 시험문제 내신다고 하심.!!!!!!!!!!!!!!!!!!!!!!!!!!!!!!!!!!\n",
    "        if c == 'A':\n",
    "            comp = \"T\" + comp\n",
    "        elif c == \"T\": \n",
    "            comp = \"A\" + comp\n",
    "        elif c == \"G\": \n",
    "            comp = \"C\" + comp\n",
    "        elif c== \"C\": \n",
    "            comp = \"G\" + comp\n",
    "    return comp\n",
    "\n"
   ]
  },
  {
   "cell_type": "code",
   "execution_count": 21,
   "id": "6686ad89-44a4-4749-80b3-33c8827f232d",
   "metadata": {},
   "outputs": [
    {
     "data": {
      "text/plain": [
       "'GCAT'"
      ]
     },
     "execution_count": 21,
     "metadata": {},
     "output_type": "execute_result"
    }
   ],
   "source": [
    "seq2 = \"ATGC\"\n",
    "reverse_complement(seq2)"
   ]
  },
  {
   "cell_type": "code",
   "execution_count": 4,
   "id": "952ad6d7-ee6f-4b39-b882-5a154d301922",
   "metadata": {},
   "outputs": [],
   "source": [
    "# 상보(Complement)\n",
    "\n",
    "def complement (dna_seq):\n",
    "    assert validate_dna(dna_seq), \"Invalid DNA sequence\" #valid한지 체크함. \n",
    "    comp = \"\" #valid하다면 역상보 가닥을 넣을 comp 변수.\n",
    "    for c in dna_seq.upper():  \n",
    "        if c == 'A':\n",
    "            comp = comp + \"T\"\n",
    "        elif c == \"T\": \n",
    "            comp = comp + \"A\"\n",
    "        elif c == \"G\": \n",
    "            comp = comp + \"C\"\n",
    "        elif c== \"C\": \n",
    "            comp = comp + \"G\"\n",
    "    return comp"
   ]
  },
  {
   "cell_type": "code",
   "execution_count": 5,
   "id": "7275bdb8",
   "metadata": {},
   "outputs": [
    {
     "data": {
      "text/plain": [
       "'TACG'"
      ]
     },
     "execution_count": 5,
     "metadata": {},
     "output_type": "execute_result"
    }
   ],
   "source": [
    "seq2 = \"ATGC\"\n",
    "complement(seq2)"
   ]
  },
  {
   "cell_type": "code",
   "execution_count": null,
   "id": "07d40f02",
   "metadata": {},
   "outputs": [],
   "source": []
  }
 ],
 "metadata": {
  "kernelspec": {
   "display_name": "Python 3",
   "language": "python",
   "name": "python3"
  },
  "language_info": {
   "codemirror_mode": {
    "name": "ipython",
    "version": 3
   },
   "file_extension": ".py",
   "mimetype": "text/x-python",
   "name": "python",
   "nbconvert_exporter": "python",
   "pygments_lexer": "ipython3",
   "version": "3.12.1"
  }
 },
 "nbformat": 4,
 "nbformat_minor": 5
}
