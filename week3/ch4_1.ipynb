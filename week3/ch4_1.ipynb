{
 "cells": [
  {
   "cell_type": "code",
   "execution_count": null,
   "id": "6f48021a-881a-4974-91e6-a1967ebfaa45",
   "metadata": {},
   "outputs": [],
   "source": [
    "# DNA 유효성 검사 함수\n",
    "\n",
    "def validate_dna (dna_seq):\n",
    "    \"\"\" Checks if DNA sequence is valid. Returns True is sequence is valid, or False otherwise. \"\"\"\n",
    "    seqm = dna_seq.upper() #DNA seq이 들어오면 다 대문자로 바꾸고 seqm이라는 오브젝트에 저장.\n",
    "    #seqm은 서열이기에 전체 서열의 길이와, A,C,G,T 각각의 길이의 합이 같다면 이 이외에 다른 문자가 없다는 것을 확인할 수 있음.\n",
    "    valid = seqm.count(\"A\") + seqm.count(\"C\") + seqm.count(\"G\") + seqm.count(\"T\")\n",
    "    if valid == len(seqm): return True\n",
    "    else: return False \n",
    "    "
   ]
  },
  {
   "cell_type": "code",
   "execution_count": null,
   "id": "335655f6-a645-4785-9850-6c50980d7963",
   "metadata": {},
   "outputs": [
    {
     "data": {
      "text/plain": [
       "False"
      ]
     },
     "execution_count": 7,
     "metadata": {},
     "output_type": "execute_result"
    }
   ],
   "source": [
    "validate_dna(\"ABC\") #ATGC로 이루어지지 않은 이상한 서열 -> false가 나옴."
   ]
  },
  {
   "cell_type": "code",
   "execution_count": 9,
   "id": "730608b2-f275-4c5e-b8a2-8320000ef69e",
   "metadata": {},
   "outputs": [
    {
     "data": {
      "text/plain": [
       "True"
      ]
     },
     "execution_count": 9,
     "metadata": {},
     "output_type": "execute_result"
    }
   ],
   "source": [
    "validate_dna(\"aacgt\")"
   ]
  },
  {
   "cell_type": "code",
   "execution_count": null,
   "id": "6853cc48-aa76-41c4-a3ee-0f852e26d8d9",
   "metadata": {},
   "outputs": [],
   "source": [
    "# 문자 빈도 분석 함수\n",
    "# ATGC 4가지 염기의 빈도 분석.\n",
    "#dictionary 사용. key와 value로 구성된 형태. ATCG가 key가 되고, 빈도를 value로 저장해서 빈도를 return할거임.\n",
    "\n",
    "def frequency (seq):\n",
    "    \"\"\" Calculates the frequency of each symbol in the sequence. Returns a dictionary. \"\"\"\n",
    "    dic = {} # 사전: 서열의 각 문자는 key, 빈도는 value\n",
    "    for s in seq.upper(): #s라는 변수가 읽어감.\n",
    "        if s in dic: dic[s] += 1 #기존 key가 있다면 1씩 더함.\n",
    "        else: dic[s] = 1 #key가 없다면 처음 발견된 거니까 1부터 시작.\n",
    "    return dic\n"
   ]
  },
  {
   "cell_type": "code",
   "execution_count": 15,
   "id": "1c975c11-4f42-4d6e-8609-afbbb28aeae2",
   "metadata": {},
   "outputs": [
    {
     "data": {
      "text/plain": [
       "{'A': 2, 'C': 2, 'G': 4, 'T': 2}"
      ]
     },
     "execution_count": 15,
     "metadata": {},
     "output_type": "execute_result"
    }
   ],
   "source": [
    "frequency(\"aaccggggtt\")"
   ]
  },
  {
   "cell_type": "code",
   "execution_count": null,
   "id": "1c591c82-cf93-4223-beee-a1a43d0c10fd",
   "metadata": {},
   "outputs": [],
   "source": [
    "# GC 비율 계산 함수\n",
    "\n",
    "def gc_content (dna_seq):\n",
    "    \"\"\" Returns the percentage of G and C nucleotides in a DNA sequence. \"\"\"   \n",
    "    gc_count = 0 #g 또는 c를 카운트하는 변수. 0부터 시작.\n",
    "    for s in dna_seq:\n",
    "        if s in \"GCgc\": gc_count += 1\n",
    "    return gc_count / len(dna_seq) #전체 서열 길이로 나눠주면 비율이 나옴.\n",
    "\n"
   ]
  },
  {
   "cell_type": "code",
   "execution_count": null,
   "id": "a310a30c-4692-47cd-9363-f46d21a82061",
   "metadata": {},
   "outputs": [
    {
     "data": {
      "text/plain": [
       "0.6"
      ]
     },
     "execution_count": 25,
     "metadata": {},
     "output_type": "execute_result"
    }
   ],
   "source": [
    "dna_seq2 = \"ATGCGGCTac\" #총 length가 10인 시퀀스. 여기서 GC는 6개 있음. 60%를 카운트 하는 함수.\n",
    "gc_content(dna_seq2)\n"
   ]
  },
  {
   "cell_type": "code",
   "execution_count": null,
   "id": "ba230953-ffbd-415a-bb5f-89ee2ca96167",
   "metadata": {},
   "outputs": [],
   "source": [
    "# GC 비율 계산 함수보다 복잡한 함수.\n",
    "# 시퀀스를 10씩 끊어가면서 각 구간(subseq)마다 GC비율을 구함. \n",
    "#k는 window size임. 디폴트로 10으로 해둘거임.\n",
    "#non-overlapping 겹치지 않고.\n",
    "\n",
    "def gc_content_subseq (dna_seq, k=10):\n",
    "    \"\"\" Returns GC content of non-overlapping sub-sequences of size k. \"\"\"\n",
    "    res = [] #리스트 변수.\n",
    "    for i in range(0, len(dna_seq)-k+1, k): # 0, k, 2k, ... #k 씩 증가한다. \n",
    "        subseq = dna_seq[i:i+k]  #  인덱스 i부터 i+k 직전까지의 부분 문자열을 추출 #i부터 i+k까지 subseq을 만들어줌.\n",
    "        gc = gc_content(subseq)\n",
    "        res.append(gc)\n",
    "    return res\n"
   ]
  },
  {
   "cell_type": "code",
   "execution_count": null,
   "id": "6abd7b13-779c-419b-b5d2-4f0b45b6266d",
   "metadata": {},
   "outputs": [
    {
     "data": {
      "text/plain": [
       "[0.6, 0.6]"
      ]
     },
     "execution_count": 70,
     "metadata": {},
     "output_type": "execute_result"
    }
   ],
   "source": [
    "dna_seq2 = \"ATGCGGCTacATGCGGCTac\"  #위에서 쓴 서열 그대로 두번 붙임.\n",
    "gc_content_subseq(dna_seq2,10)"
   ]
  },
  {
   "cell_type": "code",
   "execution_count": 1,
   "id": "ce1453d9-c804-4f04-9831-4cb5f6ca8053",
   "metadata": {},
   "outputs": [],
   "source": [
    "# 부분 서열(subsequence) 찾기\n",
    "\n",
    "def find_subseq(dna_seq, pattern):\n",
    "    \"\"\"\n",
    "    dna_seq 안에서 pattern이 등장하는 모든 위치를 리스트로 반환.\n",
    "    \"\"\"\n",
    "    positions = [] #위치를 저장할 빈 리스트.\n",
    "    start = 0 #시퀀스를 훑으면서 패턴을 찾는 변수임.\n",
    "    while True:\n",
    "        idx = dna_seq.find(pattern, start)  #  dna_seq에서 pattern이 처음 등장하는 위치를 찾습니다. start는 검색을 시작할 위치를 지정\n",
    "        # 일단 start는 0이니까 처음부터 찾겠다. 그리고 start가 증가하면서 후루룩 검사.\n",
    "\n",
    "\n",
    "        if idx == -1:  # 만약 pattern이 더 이상 dna_seq에서 찾을 수 없으면 find는 -1을 반환\n",
    "            break      # while 루프를 종료\n",
    "        positions.append(idx) #찾은 패턴 위치를 리스트에 넣음.\n",
    "        start = idx + 1  # 다음 위치부터 검색\n",
    "    return positions #패턴 위치가 저장된 리스트 리턴.\n"
   ]
  },
  {
   "cell_type": "code",
   "execution_count": 4,
   "id": "51e67bb8-aec3-44eb-931c-3630629727c6",
   "metadata": {},
   "outputs": [
    {
     "name": "stdout",
     "output_type": "stream",
     "text": [
      "[0, 5, 9, 13]\n"
     ]
    }
   ],
   "source": [
    "# 사용 예시\n",
    "dna_seq3 = \"ATGCGATAGATCGAT\" #input으로 주어진 서열 중\n",
    "pattern = \"AT\" #AT라고 하는 이 패턴의 위치를 알고 싶음.\n",
    "pos_list = find_subseq(dna_seq3, pattern) \n",
    "print(pos_list) \n"
   ]
  },
  {
   "cell_type": "code",
   "execution_count": null,
   "id": "5e3cc411-3fcd-4a83-bc42-a614db6c6822",
   "metadata": {},
   "outputs": [],
   "source": []
  }
 ],
 "metadata": {
  "kernelspec": {
   "display_name": "Python 3",
   "language": "python",
   "name": "python3"
  },
  "language_info": {
   "codemirror_mode": {
    "name": "ipython",
    "version": 3
   },
   "file_extension": ".py",
   "mimetype": "text/x-python",
   "name": "python",
   "nbconvert_exporter": "python",
   "pygments_lexer": "ipython3",
   "version": "3.12.1"
  }
 },
 "nbformat": 4,
 "nbformat_minor": 5
}
