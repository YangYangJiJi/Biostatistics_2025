{
 "cells": [
  {
   "cell_type": "code",
   "execution_count": null,
   "id": "f8aa15a1-3d4b-4752-b5c0-fd871b88a1ab",
   "metadata": {},
   "outputs": [
    {
     "name": "stdout",
     "output_type": "stream",
     "text": [
      "Alignment with 3 rows and 7 columns\n",
      "ACGTGAC Seq1\n",
      "ACGTGCA Seq3\n",
      "ACTGACC Seq2\n"
     ]
    }
   ],
   "source": [
    "from Bio.Align.Applications import ClustalwCommandline\n",
    "from Bio import AlignIO\n",
    "\n",
    "# ClustalW 경로 지정 (설치된 위치를 정확히 지정하세요!)\n",
    "clustalw_exe = r\"C:\\Program Files (x86)\\ClustalW2\\clustalw2.exe\"\n",
    "\n",
    "# 입력 FASTA 파일 위치 (같은 디렉터리에 저장하는 것이 좋습니다)\n",
    "# 단백질, DNA, RNA 서열일 수도 있음. 이번 실습은 DNA\n",
    "in_file = \"example.fasta\"\n",
    "\n",
    "# 명령어 설정\n",
    "clustalw_cline = ClustalwCommandline(clustalw_exe, infile=in_file)\n",
    "\n",
    "# 실행\n",
    "stdout, stderr = clustalw_cline() \n",
    "\n",
    "# 결과 확인\n",
    "alignment_file = \"example.aln\"  # .aln파일이 자동 생성됨. 이게 clustalW의 결과파일. \n",
    "alignment = AlignIO.read(alignment_file, \"clustal\") #align 타입을 clustal로 설정 \n",
    "print(alignment)\n"
   ]
  },
  {
   "cell_type": "code",
   "execution_count": null,
   "id": "4c2b0d12-906f-4141-aa14-9d9e3e2c24d7",
   "metadata": {},
   "outputs": [
    {
     "data": {
      "text/plain": [
       "1"
      ]
     },
     "execution_count": 3,
     "metadata": {},
     "output_type": "execute_result"
    }
   ],
   "source": [
    "AlignIO.write(alignment, \"aligned_clustalw.fasta\", \"fasta\")\n",
    "#align결과를 fasta 파일로 저장할거임. "
   ]
  },
  {
   "cell_type": "code",
   "execution_count": null,
   "id": "b29871c5-0fe7-4faf-8e9e-3dc397f85fe3",
   "metadata": {},
   "outputs": [
    {
     "name": "stdout",
     "output_type": "stream",
     "text": [
      "MUSCLE 실행 성공 \n",
      "\n",
      "Alignment with 3 rows and 7 columns\n",
      "ACTGACC Seq2\n",
      "ACGTGAC Seq1\n",
      "ACGTGCA Seq3\n"
     ]
    }
   ],
   "source": [
    "import subprocess\n",
    "from Bio import AlignIO\n",
    "\n",
    "# MUSCLE v5 실행 경로\n",
    "muscle_exe = r\"C:\\Users\\~~~\\Downloads\\muscle-win64.v5.3.exe\"\n",
    "\n",
    "#입력 및 출력 파일\n",
    "input_file = \"example.fasta\"\n",
    "output_file = \"aligned.fasta\"\n",
    "\n",
    "#명령어 문자열 구성\n",
    "cmd = [muscle_exe, \"-align\", input_file, \"-output\", output_file]\n",
    "\n",
    "#명령어 실행\n",
    "try :\n",
    "    result = subprocess.run(cmd, capture_output=True, text=True, check=True)\n",
    "    print(\"MUSCLE 실행 성공 \")\n",
    "    print(result.stdout)\n",
    "except subprocess.CalledProcessError as e :\n",
    "    print(\"MUSCLE 실행 오류:\")\n",
    "    print(e.stderr)\n",
    "\n",
    "# 정렬 결과 읽기 \n",
    "alignment = AlignIO.read(output_file, \"fasta\") #output 파일을 다시 파이썬에서 불러들여 읽음. \n",
    "print(alignment)"
   ]
  },
  {
   "cell_type": "code",
   "execution_count": null,
   "id": "2b1b8efa",
   "metadata": {},
   "outputs": [],
   "source": []
  }
 ],
 "metadata": {
  "kernelspec": {
   "display_name": "Python 3",
   "language": "python",
   "name": "python3"
  },
  "language_info": {
   "codemirror_mode": {
    "name": "ipython",
    "version": 3
   },
   "file_extension": ".py",
   "mimetype": "text/x-python",
   "name": "python",
   "nbconvert_exporter": "python",
   "pygments_lexer": "ipython3",
   "version": "3.12.1"
  }
 },
 "nbformat": 4,
 "nbformat_minor": 5
}
