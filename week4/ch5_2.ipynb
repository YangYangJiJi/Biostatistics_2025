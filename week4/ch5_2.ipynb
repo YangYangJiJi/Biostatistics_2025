{
 "cells": [
  {
   "cell_type": "code",
   "execution_count": 6,
   "id": "67c868a5",
   "metadata": {},
   "outputs": [],
   "source": [
    "import Bio"
   ]
  },
  {
   "cell_type": "code",
   "execution_count": 11,
   "id": "cf617d59-1d37-44a9-a804-f5005bb0caa0",
   "metadata": {},
   "outputs": [],
   "source": [
    "\n",
    "def search_first_occ(seq, pattern):\n",
    "    \"\"\"\n",
    "    seq에서 pattern이 처음 등장하는 인덱스를 반환.\n",
    "    없으면 -1 반환.\n",
    "    \"\"\"\n",
    "    found = False  # 일단 false로 시작. 찾으면 true로 바뀜.\n",
    "    i = 0 \n",
    "    while i <= len(seq)-len(pattern) and not found: #j인덱스는 패턴 3자리에서 0,1,2로 옮겨감 / i는 서열을 뒤적임. \n",
    "    # i가 일단 찾으면, i와 j는 같이 증가.\n",
    "        j = 0\n",
    "        while j < len(pattern) and pattern[j]==seq[i+j]: \n",
    "            j = j + 1\n",
    "        if j== len(pattern): found = True #j가 패턴길이만큼 되었다? = 패턴을 다 찾았다는 뜻 = found를 True로 돌려줌.\n",
    "        else: i += 1    #그렇지 않으면 i를 1증가해서, 다음 염기 비교.\n",
    "    if found: return i  #찾았으면 i를 리턴.\n",
    "    else: return -1 #아니면 -1 리턴.\n",
    "    \n",
    "\n",
    "    # 총 2개의 반복문\n",
    "    # 첫번째는 거의 서열 끝까지 다 찾음. 서열 길이에 비례해서 찾는 시간이 증가함. \n",
    "    # 두번째도 패턴 길이가 증가할 수록, 패턴 길이에 비례해서 찾는 시간이 증가함. \n",
    "\n",
    "    # n : length of seq\n",
    "    # m : length of pattern\n",
    "    # 시간복잡도는 n * m 이다. \n",
    "    # 데이터가 증가할 때 시간복잡도가 영향을 끼침.\n",
    "\n",
    "\n",
    "    # 시간복잡도 설명 log(n)은 빠른것. \n",
    "\n"
   ]
  },
  {
   "cell_type": "code",
   "execution_count": 12,
   "id": "a294fc2b-8ffc-46ae-89b4-0575049afd6d",
   "metadata": {},
   "outputs": [],
   "source": [
    "def search_all_occurrences(seq, pattern):\n",
    "    \"\"\"\n",
    "    seq에서 pattern이 등장하는 모든 인덱스를 리스트로 반환.\n",
    "    \"\"\"\n",
    "    res = [] \n",
    "\n",
    "    for i in range(len(seq)-len(pattern)+1): \n",
    "        j = 0\n",
    "        while j < len(pattern) and pattern[j]==seq[i+j]: \n",
    "            j = j + 1\n",
    "        if j == len(pattern): \n",
    "            res.append(i)\n",
    "    return res\n",
    "\n",
    "\n",
    "#첫 반복문.\n",
    "#위에서는 모든 서열을 다 보기위해 while문 사용\n",
    "#여기서는 이 패턴속 모든 인덱스를 알고 싶기에 for문 사용\n",
    "\n",
    "\n",
    "#이것도 속도가 n * m에 비례해서 증가한다. 데이터 사이즈가 증가함에 따라.\n"
   ]
  },
  {
   "cell_type": "code",
   "execution_count": 13,
   "id": "9dfc32b2-525f-4b4b-872c-88b6a3e4d651",
   "metadata": {},
   "outputs": [
    {
     "name": "stdout",
     "output_type": "stream",
     "text": [
      "3\n",
      "-1\n",
      "[4, 12]\n",
      "[4, 11, 12]\n"
     ]
    }
   ],
   "source": [
    "\n",
    "seqDNA = \"ATAGAATAGATAAATAGTC\"\n",
    "print( search_first_occ(seqDNA, \"GAAT\") )\n",
    "print( search_first_occ(seqDNA, \"TATA\") )\n",
    "print( search_all_occurrences(seqDNA, \"AAT\") )\n",
    "print( search_all_occurrences(seqDNA, \"AA\") ) # 11, 12 리턴하는 부분이 포인트"
   ]
  },
  {
   "cell_type": "code",
   "execution_count": null,
   "id": "74a2e64f-e346-4495-8422-c0f039741d66",
   "metadata": {},
   "outputs": [],
   "source": []
  }
 ],
 "metadata": {
  "kernelspec": {
   "display_name": "Python 3",
   "language": "python",
   "name": "python3"
  },
  "language_info": {
   "codemirror_mode": {
    "name": "ipython",
    "version": 3
   },
   "file_extension": ".py",
   "mimetype": "text/x-python",
   "name": "python",
   "nbconvert_exporter": "python",
   "pygments_lexer": "ipython3",
   "version": "3.12.1"
  }
 },
 "nbformat": 4,
 "nbformat_minor": 5
}
