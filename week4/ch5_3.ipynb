{
 "cells": [
  {
   "cell_type": "code",
   "execution_count": null,
   "id": "61075766-d803-4906-9843-84658c1b5c02",
   "metadata": {},
   "outputs": [],
   "source": [
    "class BoyerMoore:\n",
    "    \n",
    "    def __init__(self, alphabet, pattern):\n",
    "        self.alphabet = alphabet  # 알파벳(문자 집합)을 초기화\n",
    "        self.pattern = pattern  # 검색할 패턴을 초기화\n",
    "        self.preprocess()  # 패턴에 대해 전처리 작업 수행\n",
    "\n",
    "    def preprocess(self):\n",
    "        # 전처리: BCR (Bad Character Rule)과 GSR (Good Suffix Rule)을 처리\n",
    "        self.process_bcr()  \n",
    "        self.process_gsr()\n",
    "        \n",
    "    def process_bcr(self):  \n",
    "        # BCR (Bad Character Rule) 처리\n",
    "        self.occ = {}  # 패턴에서 각 문자에 대한 마지막 발생 위치를 저장할 딕셔너리\n",
    "        for symb in self.alphabet:\n",
    "            self.occ[symb] = -1  # 모든 문자의 초기 위치는 -1로 설정\n",
    "        for j in range(len(self.pattern)):  # 패턴을 순회하면서 마지막 발생 위치 기록\n",
    "            c = self.pattern[j]\n",
    "            self.occ[c] = j\n",
    "            \n",
    "    def process_gsr(self):\n",
    "        # GSR (Good Suffix Rule) 처리\n",
    "        self.f = [0] * (len(self.pattern)+1)  # f 배열: 좋은 접미사 위치를 저장\n",
    "        self.s = [0] * (len(self.pattern)+1)  # s 배열: 접미사 길이를 저장\n",
    "        i = len(self.pattern)  # 패턴의 끝 인덱스\n",
    "        j = len(self.pattern)+1  # GSR을 위한 j 초기화\n",
    "        self.f[i] = j  # 마지막 위치 f[i]를 j로 설정\n",
    "        while i > 0:\n",
    "            while j <= len(self.pattern) and self.pattern[i-1] != self.pattern[j-1]:\n",
    "                if self.s[j] == 0:  # 일치하지 않으면 좋은 접미사 길이를 기록\n",
    "                    self.s[j] = j - i\n",
    "                j = self.f[j]  # GSR에 따른 이동\n",
    "            i -= 1  # 패턴의 앞부분으로 이동\n",
    "            j -= 1  # j 값을 감소시킴\n",
    "            self.f[i] = j  # f[i] 업데이트\n",
    "        j = self.f[0]  # j 초기화\n",
    "        for i in range(len(self.pattern)):\n",
    "            if self.s[i] == 0:  # 접미사가 없다면 j로 설정\n",
    "                self.s[i] = j\n",
    "            if i == j:  # 접미사가 끝나면 j 갱신\n",
    "                j = self.f[j]\n",
    "        \n",
    "    def search_pattern(self, text):\n",
    "        # 주어진 텍스트에서 패턴을 검색\n",
    "        res = []  # 결과를 저장할 리스트\n",
    "        i = 0  # 텍스트 내에서 검색 시작 위치\n",
    "        while i <= len(text) - len(self.pattern):  # 텍스트 끝까지 검색\n",
    "            j = len(self.pattern) - 1  # 패턴의 끝부터 비교 시작\n",
    "            while j >= 0 and self.pattern[j] == text[j + i]:  # 패턴과 텍스트가 일치하는지 확인\n",
    "                j -= 1  # 일치하면 j 감소\n",
    "            if j < 0:  # 패턴이 완전히 일치한 경우\n",
    "                res.append(i)  # 일치하는 위치 저장\n",
    "                i += self.s[0]  # 좋은 접미사에 따른 이동\n",
    "            else:\n",
    "                c = text[j + i]  # 일치하지 않는 문자를 찾으면\n",
    "                i += max(self.s[j + 1], j - self.occ[c])  # BCR과 GSR을 고려하여 이동\n",
    "        return res  # 일치하는 패턴의 인덱스를 반환"
   ]
  },
  {
   "cell_type": "code",
   "execution_count": null,
   "id": "d44740c3-6aec-44a8-9444-3d359579f170",
   "metadata": {},
   "outputs": [
    {
     "name": "stdout",
     "output_type": "stream",
     "text": [
      "[5, 13, 23, 37]\n"
     ]
    }
   ],
   "source": [
    "bm = BoyerMoore(\"ACTG\", \"ACCA\") #첫번째는 우리가 사용하는 염기 = ACTG를 쓰니까 DNA 서열이라는 뜻 #두번째가 관심있는 패턴.\n",
    "print (bm.search_pattern(\"ATAGAACCAATGAACCATGATGAACCATGGATACCCAACCACC\")) #서열.\n",
    "#반복이 되면 시간이 더 걸림.\n"
   ]
  },
  {
   "cell_type": "markdown",
   "id": "f6bdf7b1",
   "metadata": {},
   "source": [
    "### `__init__:`\n",
    "클래스가 초기화될 때 alphabet과 pattern을 받아와서, preprocess()를 호출하여 전처리를 시작함.\n",
    "\n",
    "### `preprocess():`\n",
    "BCR과 GSR을 처리하는 메서드를 호출하여 검색을 최적화할 준비를 함.\n",
    "\n",
    "### `process_bcr():`\n",
    "**Bad Character Rule (BCR)** 을 적용. 각 문자에 대해 마지막 발생 위치를 기록하는 딕셔너리 self.occ를 생성함.\n",
    "\n",
    "### `process_gsr():`\n",
    "**Good Suffix Rule (GSR)** 을 적용. 접미사에 맞는 최적의 이동 위치를 결정하는 배열 self.f와 self.s를 생성함.\n",
    "\n",
    "### `search_pattern():`\n",
    "- 주어진 텍스트에서 pattern을 찾는 메서드.\n",
    "- BCR과 GSR을 이용해 패턴 매칭을 최적화함.\n",
    "- 일치하는 패턴을 찾으면 그 위치를 res에 저장하고, 좋은 접미사를 이용해 검색 범위를 효율적으로 좁힘."
   ]
  },
  {
   "cell_type": "code",
   "execution_count": null,
   "id": "893d581a-f8ab-46bd-9049-634adad51a21",
   "metadata": {},
   "outputs": [],
   "source": []
  }
 ],
 "metadata": {
  "kernelspec": {
   "display_name": "Python 3",
   "language": "python",
   "name": "python3"
  },
  "language_info": {
   "codemirror_mode": {
    "name": "ipython",
    "version": 3
   },
   "file_extension": ".py",
   "mimetype": "text/x-python",
   "name": "python",
   "nbconvert_exporter": "python",
   "pygments_lexer": "ipython3",
   "version": "3.12.1"
  }
 },
 "nbformat": 4,
 "nbformat_minor": 5
}
