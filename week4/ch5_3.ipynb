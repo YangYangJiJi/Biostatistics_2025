{
 "cells": [
  {
   "cell_type": "code",
   "execution_count": 2,
   "id": "61075766-d803-4906-9843-84658c1b5c02",
   "metadata": {},
   "outputs": [],
   "source": [
    "\n",
    "class BoyerMoore:\n",
    "    \n",
    "    def __init__(self, alphabet, pattern):\n",
    "        self.alphabet = alphabet\n",
    "        self.pattern = pattern\n",
    "        self.preprocess()\n",
    "\n",
    "    def preprocess(self):\n",
    "        self.process_bcr()\n",
    "        self.process_gsr()\n",
    "        \n",
    "    def process_bcr(self):  \n",
    "        self.occ = {}\n",
    "        for symb in self.alphabet:\n",
    "            self.occ[symb] = -1\n",
    "        for j in range(len(self.pattern)):\n",
    "            c = self.pattern[j]\n",
    "            self.occ[c] = j\n",
    "            \n",
    "    def process_gsr(self):\n",
    "        self.f = [0] * (len(self.pattern)+1)\n",
    "        self.s = [0] * (len(self.pattern)+1)\n",
    "        i = len(self.pattern)\n",
    "        j = len(self.pattern)+1\n",
    "        self.f[i] = j\n",
    "        while i>0:\n",
    "            while j<= len(self.pattern) and self.pattern[i-1] != self.pattern[j-1]:\n",
    "                if self.s[j] == 0: self.s[j] = j-i;\n",
    "                j = self.f[j]\n",
    "            i -= 1\n",
    "            j -= 1\n",
    "            self.f[i] = j  \n",
    "        j = self.f[0]\n",
    "        for i in range(len(self.pattern)):\n",
    "            if self.s[i] == 0: self.s[i] = j\n",
    "            if i == j: j = self.f[j]\n",
    "        \n",
    "    def search_pattern(self, text):\n",
    "        res = []\n",
    "        i = 0\n",
    "        while i <= len(text) - len(self.pattern):\n",
    "            j= len(self.pattern)- 1\n",
    "            while j>=0 and self.pattern[j]==text[j+i]: j -= 1 \n",
    "            if (j<0):\n",
    "                res.append(i)\n",
    "                i += self.s[0]\n",
    "            else:\n",
    "                c = text[j+i]            \n",
    "                i += max(self.s[j+1], j- self.occ[c])\n",
    "        return res\n",
    "\n",
    "\n",
    "            "
   ]
  },
  {
   "cell_type": "code",
   "execution_count": null,
   "id": "d44740c3-6aec-44a8-9444-3d359579f170",
   "metadata": {},
   "outputs": [
    {
     "name": "stdout",
     "output_type": "stream",
     "text": [
      "[5, 13, 23, 37]\n"
     ]
    }
   ],
   "source": [
    "bm = BoyerMoore(\"ACTG\", \"ACCA\") #첫번째는 우리가 사용하는 염기 = ACTG를 쓰니까 DNA 서열이라는 뜻 #두번째가 관심있는 패턴.\n",
    "print (bm.search_pattern(\"ATAGAACCAATGAACCATGATGAACCATGGATACCCAACCACC\")) #서열.\n",
    "#반복이 되면 시간이 더 걸림.\n"
   ]
  },
  {
   "cell_type": "code",
   "execution_count": null,
   "id": "893d581a-f8ab-46bd-9049-634adad51a21",
   "metadata": {},
   "outputs": [],
   "source": []
  }
 ],
 "metadata": {
  "kernelspec": {
   "display_name": "Python 3",
   "language": "python",
   "name": "python3"
  },
  "language_info": {
   "codemirror_mode": {
    "name": "ipython",
    "version": 3
   },
   "file_extension": ".py",
   "mimetype": "text/x-python",
   "name": "python",
   "nbconvert_exporter": "python",
   "pygments_lexer": "ipython3",
   "version": "3.12.1"
  }
 },
 "nbformat": 4,
 "nbformat_minor": 5
}
