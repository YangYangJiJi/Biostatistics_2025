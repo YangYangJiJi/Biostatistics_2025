{
 "cells": [
  {
   "cell_type": "code",
   "execution_count": null,
   "id": "63e8e914-05ae-4813-b86c-17f756a24dda",
   "metadata": {},
   "outputs": [
    {
     "name": "stdout",
     "output_type": "stream",
     "text": [
      "tataaaggcAATATGCAGTAG\n",
      "<class 'Bio.Seq.Seq'>\n"
     ]
    }
   ],
   "source": [
    "# 4.3.1.make_sequence.py \n",
    "# sequence 객체: 문자열로 된 DNA, RNA, 단백질 서열 정보를 담을 수 있음.\n",
    "from Bio.Seq import Seq  # 바이오파이썬 Seq 라이브러리 불러옴.\n",
    "\n",
    "tatabox_seq = Seq(\"tataaaggcAATATGCAGTAG\")  # sequence 객체 생성\n",
    "#Seq라는 함수를 써서 객체 만들 수 있음.\n",
    "print(tatabox_seq)  #  tataaaggcAATATGCAGTAG 가 출력된다. \n",
    "print(type(tatabox_seq)) # <class 'Bio.Seq.Seq'> \n",
    "\n",
    "#이렇게 객체를 만들면 Bio python 낸 함수들을 쓸 수 있다.\n"
   ]
  },
  {
   "cell_type": "code",
   "execution_count": 3,
   "id": "a04f9da1-d41e-4123-b67e-b01f5ea09666",
   "metadata": {},
   "outputs": [
    {
     "name": "stdout",
     "output_type": "stream",
     "text": [
      "3\n"
     ]
    }
   ],
   "source": [
    "# 객체에 포함된 서열 세기\n",
    "\n",
    "exon_seq = Seq(\"ATGCAGTAG\") \n",
    "count_a = exon_seq.count(\"A\") \n",
    "print(count_a) # 3 이 출력된다. \n"
   ]
  },
  {
   "cell_type": "code",
   "execution_count": 5,
   "id": "d658f727-676a-420a-b2a3-450dd0e9b406",
   "metadata": {},
   "outputs": [
    {
     "name": "stdout",
     "output_type": "stream",
     "text": [
      "44.44444444444444\n"
     ]
    }
   ],
   "source": [
    "# GC-contents(%) 계산하기\n",
    "\n",
    "g_count = exon_seq.count(\"G\") \n",
    "c_count = exon_seq.count(\"C\") \n",
    "gc_contents = (g_count + c_count) / len(exon_seq) * 100 \n",
    "print(gc_contents)  # 44.44 \n",
    "\n"
   ]
  },
  {
   "cell_type": "code",
   "execution_count": 7,
   "id": "c7105ff0-e153-4038-a601-08b73432d1d1",
   "metadata": {},
   "outputs": [
    {
     "name": "stdout",
     "output_type": "stream",
     "text": [
      "TATAAAGGCAATATGCAGTAG\n",
      "tataaaggcaatatgcagtag\n"
     ]
    }
   ],
   "source": [
    "# 대소문자 변환\n",
    "\n",
    "tatabox_seq = Seq(\"tataaaggcAATATGCAGTAG\") \n",
    "print(tatabox_seq.upper())  # TATAAAGGCAATATGCAGTAG \n",
    "print(tatabox_seq.lower())  # tataaaggcaatatgcagtag \n",
    "\n"
   ]
  },
  {
   "cell_type": "code",
   "execution_count": 3,
   "id": "16cd4398-cd89-4025-a7a5-ba861c3ef9d6",
   "metadata": {},
   "outputs": [
    {
     "name": "stdout",
     "output_type": "stream",
     "text": [
      "AUGCAGUAG\n",
      "MQ*\n"
     ]
    }
   ],
   "source": [
    "# 전사와 번역\n",
    "\n",
    "dna = Seq(\"ATGCAGTAG\") \n",
    "mrna = dna.transcribe() \n",
    "ptn = dna.translate() \n",
    "print(mrna)  # AUGCAGUAG \n",
    "print(ptn)  # MQ*  Met-Gln-종결코돈 \n",
    "\n",
    "# 종결코돈을 *로 표현함\n",
    "\n"
   ]
  },
  {
   "cell_type": "code",
   "execution_count": 4,
   "id": "7b5958ad",
   "metadata": {},
   "outputs": [
    {
     "name": "stdout",
     "output_type": "stream",
     "text": [
      "MQ*\n"
     ]
    }
   ],
   "source": [
    "test = mrna.translate()\n",
    "print(test)"
   ]
  },
  {
   "cell_type": "code",
   "execution_count": null,
   "id": "9989e70b-f951-4059-b356-039904ce7efb",
   "metadata": {},
   "outputs": [
    {
     "name": "stdout",
     "output_type": "stream",
     "text": [
      "MN*V*N\n",
      "MN\n"
     ]
    }
   ],
   "source": [
    "\n",
    "mRNA = Seq(\"AUGAACUAAGUUUAGAAU\") \n",
    "ptn = mRNA.translate() \n",
    "print(ptn)  ## MN*V*N \n",
    "\n",
    "\n",
    "# 번역시 첫 종결 코돈에서 종료하기\n",
    "ptn2 = mRNA.translate(to_stop=True)  #첫번째 종결코돈을 만나면 더이상 번역하지 않는 옵션.\n",
    "print(ptn2) ## MN  \n",
    "\n"
   ]
  },
  {
   "cell_type": "code",
   "execution_count": null,
   "id": "434cd485-822b-400a-9091-319dbecfc527",
   "metadata": {},
   "outputs": [
    {
     "name": "stdout",
     "output_type": "stream",
     "text": [
      "MN*V*N\n",
      "MN\n",
      "V\n",
      "N\n"
     ]
    }
   ],
   "source": [
    "# 종결 코돈 기준으로 서열 나누기\n",
    "# 긴서열은 분석하기가 힘들기 때문에 숏리드로 분석함. 이런 상황에서 사용.\n",
    "\n",
    "mrna = Seq(\"AUGAACUAAGUUUAGAAU\") \n",
    "ptn = mrna.translate() \n",
    "print(ptn)  ## MN*V*N \n",
    "for seq in ptn.split(\"*\"): #종결코돈인 *을 기준으로 서열을 나눔.\n",
    "    print(seq) \n",
    "\n"
   ]
  },
  {
   "cell_type": "code",
   "execution_count": null,
   "id": "26e22e07-96fc-4dd9-ace9-220f00c0a6b5",
   "metadata": {},
   "outputs": [
    {
     "name": "stdout",
     "output_type": "stream",
     "text": [
      "ATATTTCCGTTATACGTCATC\n",
      "CTACTGCATATTGCCTTTATA\n"
     ]
    }
   ],
   "source": [
    "# 상보적, 역상보적 서열 만들기 -> 각각 함수가 있음.\n",
    "\n",
    "seq = Seq(\"TATAAAGGCAATATGCAGTAG\") \n",
    "comp_seq = seq.complement() \n",
    "rev_comp_seq = seq.reverse_complement() \n",
    "print(comp_seq)  # ATATTTCCGTTATACGTCATC \n",
    "print(rev_comp_seq)  # CTACTGCATATTGCCTTTATA \n",
    "\n"
   ]
  },
  {
   "cell_type": "code",
   "execution_count": null,
   "id": "2ae8f6a3-ae15-4693-86d4-2a2bea8b83ff",
   "metadata": {},
   "outputs": [
    {
     "name": "stdout",
     "output_type": "stream",
     "text": [
      "ATGCAGTAG\n"
     ]
    }
   ],
   "source": [
    "# ORF(Open Reading Frame) 찾기\n",
    "# ORF는 시작 코돈인 ATG부터 시작하여 3개 염기서열씩 읽다가 종결 코돈인 TAA, TAG, TGA 중 하나를 만나면 하나의 단백질을 만들 가능성이 있음.\n",
    "# 그냥 여기서는 시작코돈 ~ 종결코돈 인듯.\n",
    "\n",
    "tatabox_seq = Seq(\"tataaaggcAATATGCAGTAG\") #시퀀스 객체로 만들어줌.\n",
    "start_idx = tatabox_seq.find(\"ATG\")    #시퀀스를 읽어가면서 ATG와 같은게 있는 인덱스?를 리턴함. 그 위치를 start_idx에 저장.\n",
    "end_idx = tatabox_seq.find(\"TAG\", start_idx)  # 예문의 편의상 TAG 로 하였다.\n",
    "#근데 첨부터 찾을 필요는 없음. 시작코돈 다음부터만 찾으면 됨\n",
    "#   \n",
    "orf = tatabox_seq[start_idx:end_idx+3]  # 파이썬 문자열과 같은 방법으로 슬라이싱이 가능하다. \n",
    "#종결코돈도 3개의 염기로 구성되었기에. 3개 뒤까지 출력.\n",
    "print(orf)  # ATGCAGTAG\n",
    "\n"
   ]
  },
  {
   "cell_type": "code",
   "execution_count": null,
   "id": "69056f5f-08aa-4233-95b9-1597bc2a5047",
   "metadata": {},
   "outputs": [],
   "source": []
  },
  {
   "cell_type": "code",
   "execution_count": null,
   "id": "49001368-6d64-4d9e-ad47-5cec26fd4e2c",
   "metadata": {},
   "outputs": [],
   "source": []
  }
 ],
 "metadata": {
  "kernelspec": {
   "display_name": "Python 3",
   "language": "python",
   "name": "python3"
  },
  "language_info": {
   "codemirror_mode": {
    "name": "ipython",
    "version": 3
   },
   "file_extension": ".py",
   "mimetype": "text/x-python",
   "name": "python",
   "nbconvert_exporter": "python",
   "pygments_lexer": "ipython3",
   "version": "3.12.1"
  }
 },
 "nbformat": 4,
 "nbformat_minor": 5
}
